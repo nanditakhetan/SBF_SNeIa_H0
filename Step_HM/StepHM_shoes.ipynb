{
 "cells": [
  {
   "cell_type": "code",
   "execution_count": 1,
   "metadata": {},
   "outputs": [],
   "source": [
    "from __future__ import division, print_function # python3 compatibilty\n",
    "import pymc3 as pm\n",
    "import numpy\n",
    "import pandas as pd\n",
    "import numpy as np                  # import numpy\n",
    "from time import time               # use for timing functions\n",
    "import matplotlib.gridspec as gridspec\n",
    "from scipy import stats\n",
    "#from matplotlib import pyplot as pl # import pyplot from matplotlib\n",
    "import matplotlib.pyplot as plt\n",
    "import arviz as az\n",
    "\n",
    "rcparams = {}\n",
    "rcparams['text.usetex'] = True\n",
    "rcparams['axes.linewidth'] = 0.7\n",
    "rcparams['font.family'] = 'sans-serif'\n",
    "rcparams['font.size'] = 22\n",
    "plt.rcParams['mathtext.fontset'] = 'dejavuserif'\n",
    "\n",
    "\n",
    "# functions for plotting posteriors\n",
    "import scipy\n",
    "import corner\n",
    "from scipy.stats import gaussian_kde\n",
    "import os"
   ]
  },
  {
   "cell_type": "code",
   "execution_count": 3,
   "metadata": {},
   "outputs": [
    {
     "name": "stdout",
     "output_type": "stream",
     "text": [
      "10.059\n",
      "19\n",
      "140\n"
     ]
    }
   ],
   "source": [
    "#read the data\n",
    "os.chdir('/Users/krishna/Documents/phd_work/SNe_data_analy/checks')\n",
    "\n",
    "df = pd.read_csv('data_shoes.csv')\n",
    "#df = df.drop([4, 16])\n",
    "SN_ceph = df['SN_name'].to_numpy()\n",
    "host = df['host'].to_numpy()\n",
    "mu_ceph = df['mu_ceph'].to_numpy()\n",
    "e_mu = df['e_mu'].to_numpy()\n",
    "bmax = df['Bmax'].to_numpy()\n",
    "ebmax = df['eBmax'].to_numpy()\n",
    "vmax = df['Vmax'].to_numpy()\n",
    "evmax = df['eVmax'].to_numpy()\n",
    "st = df['stretch'].to_numpy()\n",
    "est = df['err_stretch'].to_numpy()\n",
    "color = df['color'].to_numpy()\n",
    "ecolor = df ['e_color'].to_numpy()\n",
    "log_M = df['log_Mass'].to_numpy()\n",
    "e_logM = df['e_logMass'].to_numpy()\n",
    "print(np.median(log_M))\n",
    "#display(df)\n",
    "print(len(SN_ceph))\n",
    "\n",
    "#Lowzhflow_maxmodel_st\n",
    "#dff = pd.read_csv('data_lowz_HM.csv')\n",
    "df_cos = pd.read_csv('data_lowz_HM.csv')\n",
    "#df_cos = dff.loc[(dff['redshift'] > 0.02) & (dff['redshift'] < 0.15)]\n",
    "SN_name = df_cos['SN_name'].to_numpy()\n",
    "Bmax = df_cos['Bmax'].to_numpy()\n",
    "eBmax = df_cos['eBmax'].to_numpy()\n",
    "Vmax = df_cos['Vmax'].to_numpy()\n",
    "eVmax = df_cos['eVmax'].to_numpy()\n",
    "s = df_cos['stretch'].to_numpy()\n",
    "es = df_cos['err_stretch'].to_numpy()\n",
    "ebv = df_cos['color'].to_numpy()\n",
    "eEBV = df_cos['e_color'].to_numpy()\n",
    "logM = df_cos['log_Mass'].to_numpy()\n",
    "elogM = df_cos['e_logMass'].to_numpy()\n",
    "z = df_cos['redshift'].to_numpy()\n",
    "\n",
    "print(len(SN_name))"
   ]
  },
  {
   "cell_type": "code",
   "execution_count": null,
   "metadata": {
    "scrolled": false
   },
   "outputs": [
    {
     "name": "stderr",
     "output_type": "stream",
     "text": [
      "Auto-assigning NUTS sampler...\n",
      "Initializing NUTS using jitter+adapt_diag...\n"
     ]
    }
   ],
   "source": [
    "dirc = '/Users/krishna/Documents/phd_work/SNe_data_analy/checks/Hierchichal_analysis/figs/'\n",
    "with pm.Model():\n",
    "    P_0 = pm.Uniform('P0', lower = -30, upper = 30)\n",
    "    P_1 = pm.Uniform('P1', lower = -5, upper = 5)\n",
    "    R = pm.Uniform('R', lower = 0, upper = 15)\n",
    "    alpha = pm.Uniform('alpha', lower = -2, upper = 2)    #step correction\n",
    "    H0 = pm.Uniform('H0', lower = 60, upper = 80)\n",
    "    sigma_SN = pm.HalfCauchy('sigma_SN', 5)\n",
    "    ext = pm.HalfCauchy('ext', 5)\n",
    "    \n",
    "    c = 299792.458\n",
    "    q0 = -0.55\n",
    "    j0 = 1\n",
    "    \n",
    "    tm = 9.0\n",
    "    \n",
    "    ms_calib = []\n",
    "    for i in range(len (bmax)):\n",
    "        if log_M[i] > tm:\n",
    "            ms_calib.append(0)\n",
    "        else:\n",
    "            ms_calib.append(alpha)\n",
    "    \n",
    "    ms_cosmo = []\n",
    "    for i in range(len (Bmax)):\n",
    "        if logM[i] > tm:\n",
    "            ms_cosmo.append(0)\n",
    "        else:\n",
    "            ms_cosmo.append(alpha)\n",
    "    \n",
    "    \n",
    "    mu0 = P_0 + P_1*(st-1) + R*(color) + ms_calib + mu_ceph\n",
    "    \n",
    "    mu1 = P_0 + P_1*(s-1) + R*(ebv) + ms_cosmo + 5*np.log10((c*z/H0)*(1 + 1/2*(1- q0)*z - 1/6*(1- q0 - 3*q0**2 + j0)*z**2)) + 25\n",
    "    \n",
    "    \n",
    "    sigma0 = np.sqrt(ebmax ** 2 + sigma_SN**2 + e_mu**2 + (P_1*est)**2 +\n",
    "                    R**2*(ebmax**2 + evmax**2) - 2*R*ebmax**2 + 0.4*e_mu**2)\n",
    "    \n",
    "    sigma1 = np.sqrt(eBmax ** 2 + ext**2 + (P_1*es)**2 +\n",
    "                    R**2*(eBmax**2 + eVmax**2) - 2*R*eBmax**2)\n",
    "    \n",
    "    #m_B = pm.Normal('m_B', mu=y_est, sd = sigma, observed=mb)\n",
    "    results0 = pm.Normal('results0', mu0, sigma0, observed = bmax)\n",
    "    results1 = pm.Normal('results1', mu1, sigma1, observed = Bmax)\n",
    "    # This line is constructing the likelihood for me taking mu, model, and sigma\n",
    "    \n",
    "    \n",
    "    Nsamples = 2000  # final number of samples\n",
    "    Ntune = 2000 # number of tuning samples\n",
    "\n",
    "    # perform sampling\n",
    "    t0 = time()\n",
    "    trace = pm.sample(Nsamples, tune=Ntune, discard_tuned_samples=True, cores=4,target_accept=0.9);  # perform sampling\n",
    "    t1 = time()\n",
    "    timepymc3 = (t1-t0)\n",
    "    print(\"Time taken to run 'PyMC3' is {} seconds\".format(timepymc3))\n",
    "    plt.rcParams.update({'font.size': 12})\n",
    "    #pm.traceplot(trace) \n",
    "    print(pm.summary(trace))\n",
    "#------------------------------------------------------------------------\n",
    "#Function to plot corner plots\n",
    "    \n",
    "def plotposts(samples):    \n",
    "    fig = corner.corner(samples, bins = 50, labels=[r'$P_0$', r'$P_1$', r'$R$', r'$\\alpha$', r'$H_0$', r'$\\sigma_{SN}$', r'extra'], \n",
    "                        color = 'black',\n",
    "                        show_titles=True,\n",
    "                        hist_kwargs={'density': True}, smooth = True, title_kwargs={\"fontsize\": 12},\n",
    "                        label_kwargs={\"fontsize\": 12})\n",
    "\n",
    "\n",
    "        # plot KDE smoothed version of distributions\n",
    "    for axidx, samps in zip([0, 8, 16, 24, 32, 40, 48], samples.T):\n",
    "        kde = gaussian_kde(samps)\n",
    "        xvals = fig.axes[axidx].get_xlim()\n",
    "        xvals = np.linspace(xvals[0], xvals[1], 100)\n",
    "        fig.axes[axidx].plot(xvals, kde(xvals), color='firebrick', lw = 1)\n",
    "    fig = plt.gcf() # to get the current figure...\n",
    "    fig.savefig(dirc+'SHOES_stepHM_9.0.pdf',dpi = 500, bbox_inches='tight', pad_inches=0.2)\n",
    "\n",
    "#plt.rcParams.update({'font.size': 16}) # reset the font size\n",
    "samples_pymc3 = np.vstack((trace['P0'], trace['P1'], trace['R'], trace['alpha'], trace['H0'], trace['sigma_SN'], trace['ext'])).T\n",
    "plotposts(samples_pymc3) "
   ]
  },
  {
   "cell_type": "code",
   "execution_count": 16,
   "metadata": {},
   "outputs": [
    {
     "name": "stdout",
     "output_type": "stream",
     "text": [
      "[-19.165, -0.998, 2.152, -0.007, 71.332, 0.17, 0.176, 0.051, 0.112, 0.179, 0.109, 1.675, 0.045, 0.014]\n"
     ]
    }
   ],
   "source": [
    "para_mean = pm.summary(trace)['mean'].tolist()\n",
    "para_sd = pm.summary(trace)['sd'].tolist()\n",
    "para = para_mean+para_sd\n",
    "print(para)"
   ]
  },
  {
   "cell_type": "code",
   "execution_count": null,
   "metadata": {},
   "outputs": [],
   "source": []
  }
 ],
 "metadata": {
  "kernelspec": {
   "display_name": "Python 3",
   "language": "python",
   "name": "python3"
  },
  "language_info": {
   "codemirror_mode": {
    "name": "ipython",
    "version": 3
   },
   "file_extension": ".py",
   "mimetype": "text/x-python",
   "name": "python",
   "nbconvert_exporter": "python",
   "pygments_lexer": "ipython3",
   "version": "3.7.3"
  }
 },
 "nbformat": 4,
 "nbformat_minor": 2
}
